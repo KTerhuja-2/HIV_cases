{
 "cells": [
  {
   "cell_type": "code",
   "execution_count": 22,
   "metadata": {},
   "outputs": [],
   "source": [
    "import torch\n",
    "import torch.nn as nn\n",
    "import torch.optim as optim\n",
    "import numpy as np\n",
    "import pandas as pd\n",
    "import shutil\n",
    "from sklearn.preprocessing import MinMaxScaler\n",
    "from tqdm import tqdm_notebook as tqdm\n",
    "import matplotlib.pyplot as plt\n",
    "\n",
    "\n",
    "from darts import TimeSeries\n",
    "from darts.dataprocessing.transformers import Scaler\n",
    "from darts.models import RNNModel, ExponentialSmoothing, BlockRNNModel, NBEATSModel, LinearRegressionModel\n",
    "from darts.models.forecasting.xgboost import XGBModel\n",
    "from darts.models.forecasting.rnn_model import RNNModel\n",
    "\n",
    "from darts.metrics import mape\n",
    "from darts.utils.statistics import check_seasonality, plot_acf\n",
    "from darts.datasets import AirPassengersDataset, SunspotsDataset\n",
    "from darts.utils.timeseries_generation import datetime_attribute_timeseries\n",
    "from darts.metrics import mape, smape, mae, rmse\n",
    "from darts.utils.utils import ModelMode\n",
    "\n",
    "import warnings\n",
    "\n",
    "warnings.filterwarnings(\"ignore\")\n",
    "import logging\n",
    "\n",
    "logging.disable(logging.CRITICAL)"
   ]
  },
  {
   "cell_type": "code",
   "execution_count": 3,
   "metadata": {},
   "outputs": [],
   "source": [
    "\n",
    "data = pd.read_csv('Cleaned HIV Data.csv')"
   ]
  },
  {
   "cell_type": "code",
   "execution_count": 6,
   "metadata": {},
   "outputs": [],
   "source": [
    "cutoff_year = \"2017\""
   ]
  },
  {
   "cell_type": "code",
   "execution_count": 11,
   "metadata": {},
   "outputs": [],
   "source": [
    "series = TimeSeries.from_dataframe(data,\n",
    "                                    time_col=\"Time\"\n",
    "                                    )\n",
    "\n",
    "train_series, val_series = series.split_before(pd.Timestamp(cutoff_year))\n",
    "# scaler = Scaler()\n",
    "# training_scaled = scaler.fit_transform(train_series)\n",
    "# val_scaled = scaler.transform(val_series)\n"
   ]
  },
  {
   "cell_type": "code",
   "execution_count": 32,
   "metadata": {},
   "outputs": [],
   "source": [
    "total_countries = len(data.columns)-1"
   ]
  },
  {
   "cell_type": "code",
   "execution_count": 20,
   "metadata": {},
   "outputs": [],
   "source": [
    "es_result = 0\n",
    "\n",
    "for country in data.columns:\n",
    "\n",
    "    if country != \"Time\":\n",
    "        scaler = Scaler()\n",
    "        training_scaled = scaler.fit_transform(train_series[country])\n",
    "        val_scaled = scaler.transform(val_series[country])\n",
    "\n",
    "        es_model = ExponentialSmoothing(trend=ModelMode.ADDITIVE, seasonal=None)\n",
    "        es_model.fit(training_scaled)\n",
    "        pred_new_cases = es_model.predict(len(val_scaled))\n",
    "        pred = rmse(pred_new_cases, val_scaled)\n",
    "        es_result+=pred"
   ]
  },
  {
   "cell_type": "code",
   "execution_count": 33,
   "metadata": {},
   "outputs": [
    {
     "name": "stdout",
     "output_type": "stream",
     "text": [
      "The average RMSE of each country using Exponential Smoothing is 0.15353690708650983\n"
     ]
    }
   ],
   "source": [
    "print(f\"The average RMSE of each country using Exponential Smoothing is {es_result/total_countries}\")"
   ]
  },
  {
   "cell_type": "code",
   "execution_count": 28,
   "metadata": {},
   "outputs": [],
   "source": [
    "lr_result = 0\n",
    "\n",
    "for country in data.columns:\n",
    "\n",
    "    if country != \"Time\":\n",
    "        scaler = Scaler()\n",
    "        training_scaled = scaler.fit_transform(train_series[country])\n",
    "        val_scaled = scaler.transform(val_series[country])\n",
    "\n",
    "        lr = LinearRegressionModel(lags=1)\n",
    "        lr.fit(train_series[\"South Africa\"])\n",
    "        pred_new_cases = es_model.predict(len(val_scaled))\n",
    "        pred = rmse(pred_new_cases, val_scaled)\n",
    "        lr_result+=pred"
   ]
  },
  {
   "cell_type": "code",
   "execution_count": 34,
   "metadata": {},
   "outputs": [
    {
     "name": "stdout",
     "output_type": "stream",
     "text": [
      "The average RMSE of each country using Exponential Smoothing is 0.36129435108022334\n"
     ]
    }
   ],
   "source": [
    "print(f\"The average RMSE of each country using Exponential Smoothing is {lr_result/total_countries}\")"
   ]
  },
  {
   "cell_type": "code",
   "execution_count": 29,
   "metadata": {},
   "outputs": [
    {
     "data": {
      "text/plain": [
       "16.619540149690273"
      ]
     },
     "execution_count": 29,
     "metadata": {},
     "output_type": "execute_result"
    }
   ],
   "source": [
    "lr_result"
   ]
  },
  {
   "cell_type": "code",
   "execution_count": 31,
   "metadata": {},
   "outputs": [
    {
     "data": {
      "text/plain": [
       "46"
      ]
     },
     "execution_count": 31,
     "metadata": {},
     "output_type": "execute_result"
    }
   ],
   "source": []
  }
 ],
 "metadata": {
  "kernelspec": {
   "display_name": "Python 3",
   "language": "python",
   "name": "python3"
  },
  "language_info": {
   "codemirror_mode": {
    "name": "ipython",
    "version": 3
   },
   "file_extension": ".py",
   "mimetype": "text/x-python",
   "name": "python",
   "nbconvert_exporter": "python",
   "pygments_lexer": "ipython3",
   "version": "3.10.8"
  },
  "orig_nbformat": 4
 },
 "nbformat": 4,
 "nbformat_minor": 2
}
